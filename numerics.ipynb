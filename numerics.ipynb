{
 "cells": [
  {
   "cell_type": "markdown",
   "metadata": {},
   "source": [
    "# Exploring the implementation of statistical distribution functions"
   ]
  },
  {
   "cell_type": "markdown",
   "metadata": {},
   "source": [
    "Notebook for exploring and prototyping functions that will be implemented in Mojo. Working in Python to quickly prototype, plot, and explore numerical issues."
   ]
  },
  {
   "cell_type": "markdown",
   "metadata": {},
   "source": [
    "## Error function"
   ]
  },
  {
   "cell_type": "markdown",
   "metadata": {},
   "source": [
    "The **[error function](https://en.wikipedia.org/wiki/Error_function)** is defined as\n",
    "\n",
    "$$\\mathrm{erf} z = \\frac{2}{\\sqrt{\\pi}} = \\int_0^z e^{-t^2} \\mathop{dt}$$\n",
    "\n",
    "which has a [Taylor series](https://en.wikipedia.org/wiki/Error_function#Taylor_series):\n",
    "\n",
    "$$\\mathrm{erf} z = \\frac{2}{\\sqrt{\\pi}} = \\sum_{n=0}^\\infty \\frac{(-1)^n z^{2n+1}}{n!(2n + 1)}$$"
   ]
  }
 ],
 "metadata": {
  "language_info": {
   "name": "python"
  }
 },
 "nbformat": 4,
 "nbformat_minor": 2
}
